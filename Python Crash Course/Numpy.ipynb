{
 "cells": [
  {
   "cell_type": "code",
   "execution_count": 5,
   "metadata": {},
   "outputs": [
    {
     "name": "stdout",
     "output_type": "stream",
     "text": [
      "[1 2 3]\n"
     ]
    },
    {
     "data": {
      "text/plain": [
       "array([1, 2, 3])"
      ]
     },
     "execution_count": 5,
     "metadata": {},
     "output_type": "execute_result"
    }
   ],
   "source": [
    "import numpy as np \n",
    "my_list=[1,2,3]\n",
    "arr=np.array(my_list)\n",
    "print(arr)\n",
    "arr"
   ]
  },
  {
   "cell_type": "code",
   "execution_count": 6,
   "metadata": {},
   "outputs": [
    {
     "name": "stdout",
     "output_type": "stream",
     "text": [
      "[[1 2 3]\n",
      " [3 4 5]\n",
      " [5 6 7]]\n",
      "[ 2  5  8 11]\n"
     ]
    },
    {
     "data": {
      "text/plain": [
       "array([ 2,  5,  8, 11])"
      ]
     },
     "execution_count": 6,
     "metadata": {},
     "output_type": "execute_result"
    }
   ],
   "source": [
    "import numpy as np \n",
    "my_list=[[1,2,3],[3,4,5],[5,6,7]]\n",
    "arr=np.array(my_list)\n",
    "print(arr)\n",
    "arr\n",
    "arr1=np.arange(2,12,3)\n",
    "print(arr1)\n",
    "arr1"
   ]
  },
  {
   "cell_type": "code",
   "execution_count": 7,
   "metadata": {},
   "outputs": [
    {
     "name": "stdout",
     "output_type": "stream",
     "text": [
      "[[0. 0. 0.]\n",
      " [0. 0. 0.]\n",
      " [0. 0. 0.]]\n",
      "[1. 1. 1. 1. 1.]\n",
      "[0. 0. 0. 0.]\n",
      "[[1. 1. 1. 1. 1.]\n",
      " [1. 1. 1. 1. 1.]\n",
      " [1. 1. 1. 1. 1.]]\n",
      "[1.         1.03448276 1.06896552 1.10344828 1.13793103 1.17241379\n",
      " 1.20689655 1.24137931 1.27586207 1.31034483 1.34482759 1.37931034\n",
      " 1.4137931  1.44827586 1.48275862 1.51724138 1.55172414 1.5862069\n",
      " 1.62068966 1.65517241 1.68965517 1.72413793 1.75862069 1.79310345\n",
      " 1.82758621 1.86206897 1.89655172 1.93103448 1.96551724 2.        ]\n"
     ]
    }
   ],
   "source": [
    "import numpy as np \n",
    "arr=np.zeros((3,3))\n",
    "arr1=np.ones(5)\n",
    "arr2=np.zeros(4)\n",
    "arr3=np.ones((3,5))\n",
    "print(arr)\n",
    "print(arr1)\n",
    "print(arr2)\n",
    "print(arr3)\n",
    "arr4=np.linspace(1,2,30)\n",
    "print(arr4)\n",
    "\n"
   ]
  },
  {
   "cell_type": "code",
   "execution_count": 8,
   "metadata": {},
   "outputs": [
    {
     "data": {
      "text/plain": [
       "array([[1., 0., 0.],\n",
       "       [0., 1., 0.],\n",
       "       [0., 0., 1.]])"
      ]
     },
     "execution_count": 8,
     "metadata": {},
     "output_type": "execute_result"
    }
   ],
   "source": [
    "import  numpy as np \n",
    "np.eye(3)\n"
   ]
  },
  {
   "cell_type": "code",
   "execution_count": 9,
   "metadata": {},
   "outputs": [
    {
     "name": "stdout",
     "output_type": "stream",
     "text": [
      "[0.3818578  0.71473243 0.45735063 0.86536409 0.3267611 ]\n",
      "[-1.29042143 -1.02622749  0.08605498  1.12345585  0.32404713]\n",
      "[19 51 51 36 80 97 12 50 13 18 86 76 32  7 19 69 55 88 71 20 37 25 41  3\n",
      " 23]\n",
      "[ 0  1  2  3  4  5  6  7  8  9 10 11 12 13 14 15 16 17 18 19 20 21 22 23\n",
      " 24]\n",
      "[45 22 13 16 42  9 37  1 40 22]\n",
      "[[ 0  1  2  3  4]\n",
      " [ 5  6  7  8  9]\n",
      " [10 11 12 13 14]\n",
      " [15 16 17 18 19]\n",
      " [20 21 22 23 24]]\n",
      "45\n",
      "0\n",
      "1\n",
      "7\n"
     ]
    }
   ],
   "source": [
    "import numpy as np \n",
    "arr1=np.random.rand(5)\n",
    "print(arr1)\n",
    "arr2=np.random.randn(5)\n",
    "print(arr2)\n",
    "arr3=np.random.randint(1,100,25)\n",
    "print(arr3)\n",
    "arr=np.arange(25)\n",
    "print(arr)\n",
    "ranarr=np.random.randint(0,50,10)\n",
    "print(ranarr)\n",
    "larr=arr.reshape(5,5)\n",
    "print(larr)\n",
    "print(ranarr.max())\n",
    "print(ranarr.argmax())\n",
    "print(ranarr.min())\n",
    "print(ranarr.argmin())"
   ]
  },
  {
   "cell_type": "code",
   "execution_count": 10,
   "metadata": {},
   "outputs": [
    {
     "name": "stdout",
     "output_type": "stream",
     "text": [
      "3\n",
      "[1 2 3 4]\n",
      "[ 2  3  4  5  6  7  8  9 10]\n",
      "[99 99 99 99 99  5  6  7  8  9 10]\n",
      "[0 1 2 3 4]\n",
      "[0 0 0 0 0]\n"
     ]
    }
   ],
   "source": [
    "import numpy as np \n",
    "arr=np.arange(0,11)\n",
    "arr[3]\n",
    "print(arr[3])\n",
    "print(arr[1:5])\n",
    "print(arr[2:])\n",
    "\n",
    "arr[0:5]=99\n",
    "print(arr)\n",
    "arr1=np.arange(0,5)\n",
    "print(arr1[:])\n",
    "arr_copy=arr1.copy()\n",
    "arr_copy[:]=False\n",
    "print(arr_copy)"
   ]
  },
  {
   "cell_type": "code",
   "execution_count": 11,
   "metadata": {},
   "outputs": [
    {
     "name": "stdout",
     "output_type": "stream",
     "text": [
      "30\n",
      "[[10 15]\n",
      " [25 30]]\n",
      "[False False False False False  True  True  True  True  True]\n",
      "[ 6  7  8  9 10]\n",
      "[99 99 99 99 99  5  6  7  8  9 10]\n"
     ]
    }
   ],
   "source": [
    "import numpy as np \n",
    "arr_2d=np.array([[5,10,15],[20,25,30],[35,40,45]])\n",
    "print(arr_2d[1,2])\n",
    "print(arr_2d[:2,1:])\n",
    "arr1=np.arange(1,11)\n",
    "bool_arr=arr1>5\n",
    "print(bool_arr)\n",
    "print(arr1[bool_arr])\n",
    "\n",
    "print(arr[arr>3])"
   ]
  }
 ],
 "metadata": {
  "kernelspec": {
   "display_name": "Python 3",
   "language": "python",
   "name": "python3"
  },
  "language_info": {
   "codemirror_mode": {
    "name": "ipython",
    "version": 3
   },
   "file_extension": ".py",
   "mimetype": "text/x-python",
   "name": "python",
   "nbconvert_exporter": "python",
   "pygments_lexer": "ipython3",
   "version": "3.11.1"
  },
  "orig_nbformat": 4
 },
 "nbformat": 4,
 "nbformat_minor": 2
}
