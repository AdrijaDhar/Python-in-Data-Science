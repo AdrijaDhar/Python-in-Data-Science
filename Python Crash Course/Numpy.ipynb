{
 "cells": [
  {
   "cell_type": "code",
   "execution_count": 4,
   "metadata": {},
   "outputs": [
    {
     "name": "stdout",
     "output_type": "stream",
     "text": [
      "[1 2 3]\n"
     ]
    },
    {
     "data": {
      "text/plain": [
       "array([1, 2, 3])"
      ]
     },
     "execution_count": 4,
     "metadata": {},
     "output_type": "execute_result"
    }
   ],
   "source": [
    "import numpy as np \n",
    "my_list=[1,2,3]\n",
    "arr=np.array(my_list)\n",
    "print(arr)\n",
    "arr"
   ]
  },
  {
   "cell_type": "code",
   "execution_count": 7,
   "metadata": {},
   "outputs": [
    {
     "name": "stdout",
     "output_type": "stream",
     "text": [
      "[[1 2 3]\n",
      " [3 4 5]\n",
      " [5 6 7]]\n",
      "[ 2  5  8 11]\n"
     ]
    },
    {
     "data": {
      "text/plain": [
       "array([ 2,  5,  8, 11])"
      ]
     },
     "execution_count": 7,
     "metadata": {},
     "output_type": "execute_result"
    }
   ],
   "source": [
    "import numpy as np \n",
    "my_list=[[1,2,3],[3,4,5],[5,6,7]]\n",
    "arr=np.array(my_list)\n",
    "print(arr)\n",
    "arr\n",
    "arr1=np.arange(2,12,3)\n",
    "print(arr1)\n",
    "arr1"
   ]
  },
  {
   "cell_type": "code",
   "execution_count": 10,
   "metadata": {},
   "outputs": [
    {
     "name": "stdout",
     "output_type": "stream",
     "text": [
      "[[0. 0. 0.]\n",
      " [0. 0. 0.]\n",
      " [0. 0. 0.]]\n",
      "[1. 1. 1. 1. 1.]\n",
      "[0. 0. 0. 0.]\n",
      "[[1. 1. 1. 1. 1.]\n",
      " [1. 1. 1. 1. 1.]\n",
      " [1. 1. 1. 1. 1.]]\n",
      "[1.         1.03448276 1.06896552 1.10344828 1.13793103 1.17241379\n",
      " 1.20689655 1.24137931 1.27586207 1.31034483 1.34482759 1.37931034\n",
      " 1.4137931  1.44827586 1.48275862 1.51724138 1.55172414 1.5862069\n",
      " 1.62068966 1.65517241 1.68965517 1.72413793 1.75862069 1.79310345\n",
      " 1.82758621 1.86206897 1.89655172 1.93103448 1.96551724 2.        ]\n"
     ]
    }
   ],
   "source": [
    "import numpy as np \n",
    "arr=np.zeros((3,3))\n",
    "arr1=np.ones(5)\n",
    "arr2=np.zeros(4)\n",
    "arr3=np.ones((3,5))\n",
    "print(arr)\n",
    "print(arr1)\n",
    "print(arr2)\n",
    "print(arr3)\n",
    "arr4=np.linspace(1,2,30)\n",
    "print(arr4)\n",
    "\n"
   ]
  },
  {
   "cell_type": "code",
   "execution_count": 11,
   "metadata": {},
   "outputs": [
    {
     "data": {
      "text/plain": [
       "array([[1., 0., 0.],\n",
       "       [0., 1., 0.],\n",
       "       [0., 0., 1.]])"
      ]
     },
     "execution_count": 11,
     "metadata": {},
     "output_type": "execute_result"
    }
   ],
   "source": [
    "import  numpy as np \n",
    "np.eye(3)\n"
   ]
  },
  {
   "cell_type": "code",
   "execution_count": 12,
   "metadata": {},
   "outputs": [
    {
     "name": "stdout",
     "output_type": "stream",
     "text": [
      "[0.82011233 0.24050997 0.83208703 0.20989576 0.63298901]\n",
      "[ 1.26853722 -0.66826682 -1.06595791 -0.07903955 -0.99971542]\n",
      "[68 54 30  4 62  7 48 71 70 95 53 33 12 79 95 87 14 25 14 23 71 80 29 25\n",
      " 60]\n",
      "[ 0  1  2  3  4  5  6  7  8  9 10 11 12 13 14 15 16 17 18 19 20 21 22 23\n",
      " 24]\n",
      "[45 21 46  1 15 18 33 14  6 28]\n",
      "[[ 0  1  2  3  4]\n",
      " [ 5  6  7  8  9]\n",
      " [10 11 12 13 14]\n",
      " [15 16 17 18 19]\n",
      " [20 21 22 23 24]]\n",
      "46\n",
      "2\n",
      "1\n",
      "3\n"
     ]
    }
   ],
   "source": [
    "import numpy as np \n",
    "arr1=np.random.rand(5)\n",
    "print(arr1)\n",
    "arr2=np.random.randn(5)\n",
    "print(arr2)\n",
    "arr3=np.random.randint(1,100,25)\n",
    "print(arr3)\n",
    "arr=np.arange(25)\n",
    "print(arr)\n",
    "ranarr=np.random.randint(0,50,10)\n",
    "print(ranarr)\n",
    "larr=arr.reshape(5,5)\n",
    "print(larr)\n",
    "print(ranarr.max())\n",
    "print(ranarr.argmax())\n",
    "print(ranarr.min())\n",
    "print(ranarr.argmin())"
   ]
  },
  {
   "cell_type": "code",
   "execution_count": 2,
   "metadata": {},
   "outputs": [
    {
     "name": "stdout",
     "output_type": "stream",
     "text": [
      "3\n",
      "[1 2 3 4]\n",
      "[ 2  3  4  5  6  7  8  9 10]\n",
      "[99 99 99 99 99  5  6  7  8  9 10]\n",
      "[0 1 2 3 4]\n",
      "[0 0 0 0 0]\n"
     ]
    }
   ],
   "source": [
    "import numpy as np \n",
    "arr=np.arange(0,11)\n",
    "arr[3]\n",
    "print(arr[3])\n",
    "print(arr[1:5])\n",
    "print(arr[2:])\n",
    "\n",
    "arr[0:5]=99\n",
    "print(arr)\n",
    "arr1=np.arange(0,5)\n",
    "print(arr1[:])\n",
    "arr_copy=arr1.copy()\n",
    "arr_copy[:]=False\n",
    "print(arr_copy)"
   ]
  },
  {
   "cell_type": "code",
   "execution_count": 4,
   "metadata": {},
   "outputs": [
    {
     "name": "stdout",
     "output_type": "stream",
     "text": [
      "30\n",
      "[[10 15]\n",
      " [25 30]]\n",
      "[False False False False False  True  True  True  True  True]\n",
      "[ 6  7  8  9 10]\n",
      "[99 99 99 99 99  5  6  7  8  9 10]\n"
     ]
    }
   ],
   "source": [
    "import numpy as np \n",
    "arr_2d=np.array([[5,10,15],[20,25,30],[35,40,45]])\n",
    "print(arr_2d[1,2])\n",
    "print(arr_2d[:2,1:])\n",
    "arr1=np.arange(1,11)\n",
    "bool_arr=arr1>5\n",
    "print(bool_arr)\n",
    "print(arr1[bool_arr])\n",
    "\n",
    "print(arr[arr>3])"
   ]
  }
 ],
 "metadata": {
  "kernelspec": {
   "display_name": "Python 3",
   "language": "python",
   "name": "python3"
  },
  "language_info": {
   "codemirror_mode": {
    "name": "ipython",
    "version": 3
   },
   "file_extension": ".py",
   "mimetype": "text/x-python",
   "name": "python",
   "nbconvert_exporter": "python",
   "pygments_lexer": "ipython3",
   "version": "3.11.1"
  },
  "orig_nbformat": 4
 },
 "nbformat": 4,
 "nbformat_minor": 2
}
